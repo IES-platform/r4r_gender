{
 "cells": [
  {
   "cell_type": "code",
   "execution_count": 1,
   "id": "1f14b9b9-fdbe-4b0d-8a89-6afa058293dd",
   "metadata": {},
   "outputs": [
    {
     "name": "stdout",
     "output_type": "stream",
     "text": [
      "Downloading started\n",
      "Downloading Completed, extracting files.\n"
     ]
    }
   ],
   "source": [
    "import requests, zipfile\n",
    "from io import BytesIO\n",
    "print('Downloading started')\n",
    "\n",
    "#Defining the zip file URL\n",
    "url = 'https://ies-r4r-public.s3.eu-central-1.amazonaws.com/wgnd/dta/genderit_python.zip'\n",
    "\n",
    "\n",
    "req = requests.get(url)\n",
    "print('Downloading Completed, extracting files.')\n",
    "\n",
    "# extracting the zip file contents\n",
    "zipfile= zipfile.ZipFile(BytesIO(req.content))\n",
    "zipfile.extractall()"
   ]
  },
  {
   "cell_type": "code",
   "execution_count": null,
   "id": "7064c490-0ce6-419f-aeb7-775bea67e6a9",
   "metadata": {},
   "outputs": [],
   "source": []
  }
 ],
 "metadata": {
  "kernelspec": {
   "display_name": "Python 3 (ipykernel)",
   "language": "python",
   "name": "python3"
  },
  "language_info": {
   "codemirror_mode": {
    "name": "ipython",
    "version": 3
   },
   "file_extension": ".py",
   "mimetype": "text/x-python",
   "name": "python",
   "nbconvert_exporter": "python",
   "pygments_lexer": "ipython3",
   "version": "3.9.7"
  }
 },
 "nbformat": 4,
 "nbformat_minor": 5
}
